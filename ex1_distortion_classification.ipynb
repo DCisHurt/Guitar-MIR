{
  "cells": [
    {
      "attachments": {},
      "cell_type": "markdown",
      "metadata": {},
      "source": [
        "# Distortion Classification"
      ]
    },
    {
      "cell_type": "code",
      "execution_count": 1,
      "metadata": {
        "colab": {
          "base_uri": "https://localhost:8080/"
        },
        "id": "VMiPTdSA8C2F",
        "outputId": "a297ba92-a5c6-4015-d92d-1e9487daf896"
      },
      "outputs": [],
      "source": [
        "import torch\n",
        "import torchaudio\n",
        "import os"
      ]
    },
    {
      "cell_type": "markdown",
      "metadata": {},
      "source": [
        "#### Add Tensorboard to record data"
      ]
    },
    {
      "cell_type": "code",
      "execution_count": 2,
      "metadata": {},
      "outputs": [],
      "source": [
        "from torch.utils.tensorboard import SummaryWriter\n",
        "\n",
        "EXPERIMENT_NAME = \"c53_classify_od\"\n",
        "LOG_DIR = \"_log/\" + EXPERIMENT_NAME\n",
        "\n",
        "if not os.path.exists('%s' % LOG_DIR):\n",
        "    os.makedirs('%s' % LOG_DIR)\n",
        "\n",
        "log_writer = SummaryWriter(LOG_DIR)\n"
      ]
    },
    {
      "attachments": {},
      "cell_type": "markdown",
      "metadata": {},
      "source": [
        "### Load dataset"
      ]
    },
    {
      "cell_type": "code",
      "execution_count": 3,
      "metadata": {
        "colab": {
          "base_uri": "https://localhost:8080/"
        },
        "id": "1gIdrZtW_JYf",
        "outputId": "c1bb6969-15a9-44eb-8cdd-8d79c89208f2"
      },
      "outputs": [
        {
          "name": "stdout",
          "output_type": "stream",
          "text": [
            "Using device cpu\n",
            "There are 195 samples in the dataset.\n",
            "Shape of signal: torch.Size([1, 64, 64])\n",
            "input feature:\n"
          ]
        },
        {
          "data": {
            "image/png": "[encoded data removed]",
            "text/plain": [
              "<Figure size 1200x800 with 1 Axes>"
            ]
          },
          "metadata": {},
          "output_type": "display_data"
        }
      ],
      "source": [
        "from src.gtfxdataset import GtFxDataset\n",
        "from src.util import plot_spectrogram\n",
        "\n",
        "AUDIO_DIR = \"_assets/DATASET/GT-FX-SINGLE/\"\n",
        "ANNOTATIONS_FILE = os.path.join(AUDIO_DIR, \"annotation.csv\")\n",
        "\n",
        "SAMPLE_RATE = 22050\n",
        "NUM_SAMPLES = 22050*3\n",
        "\n",
        "if torch.cuda.is_available():\n",
        "    device = \"cuda\"\n",
        "else:\n",
        "    device = \"cpu\"\n",
        "print(f\"Using device {device}\")\n",
        "\n",
        "mel_spectrogram = torchaudio.transforms.MelSpectrogram(\n",
        "    sample_rate=SAMPLE_RATE,\n",
        "    n_fft=512,\n",
        "    hop_length=1050,\n",
        "    n_mels=64,\n",
        "    # power=2\n",
        ")\n",
        "\n",
        "spectrogram = torchaudio.transforms.Spectrogram(\n",
        "    power=2,\n",
        "    n_fft=127,\n",
        "    win_length= 127,\n",
        "    hop_length= 1040,\n",
        "    normalized=True\n",
        ")\n",
        "\n",
        "mfcc = torchaudio.transforms.MFCC(\n",
        "    sample_rate = SAMPLE_RATE, \n",
        "    n_mfcc = 64,\n",
        "    melkwargs = {\n",
        "        \"n_fft\": 1024,\n",
        "        \"hop_length\": 1030,\n",
        "        \"n_mels\": 64,\n",
        "        \"center\": False})\n",
        "\n",
        "fxData = GtFxDataset(ANNOTATIONS_FILE,\n",
        "                        AUDIO_DIR,\n",
        "                        mfcc,\n",
        "                        SAMPLE_RATE,\n",
        "                        NUM_SAMPLES,\n",
        "                        device)\n",
        "\n",
        "signal, _, _, _, filename = fxData[0]\n",
        "print(f\"There are {len(fxData)} samples in the dataset.\")\n",
        "print(f\"Shape of signal: {signal.shape}\")\n",
        "\n",
        "print(\"input feature:\")\n",
        "log_writer.add_figure(\"Input Feature\", plot_spectrogram(signal[0], title=\"MFCC\"))"
      ]
    },
    {
      "attachments": {},
      "cell_type": "markdown",
      "metadata": {},
      "source": [
        "#### Split dataset into train and test sets"
      ]
    },
    {
      "cell_type": "code",
      "execution_count": 4,
      "metadata": {},
      "outputs": [],
      "source": [
        "from src.classifier import train\n",
        "\n",
        "BATCH_SIZE = round(len(fxData) / 200)\n",
        "\n",
        "split_ratio = [0.8, 0.1, 0.1]\n",
        "train_set, test_set, val_set = torch.utils.data.random_split(fxData, lengths=split_ratio)\n",
        "\n",
        "train_dataloader = train.create_data_loader(train_set, BATCH_SIZE)\n",
        "test_dataloader = train.create_data_loader(test_set, BATCH_SIZE)\n",
        "val_dataloader = train.create_data_loader(val_set, BATCH_SIZE)"
      ]
    },
    {
      "attachments": {},
      "cell_type": "markdown",
      "metadata": {},
      "source": [
        "#### Model training"
      ]
    },
    {
      "cell_type": "code",
      "execution_count": 5,
      "metadata": {
        "colab": {
          "base_uri": "https://localhost:8080/"
        },
        "id": "O8O9r5WI2zuI",
        "outputId": "ed2a4ebd-f644-4e35-8fda-86170924dfe9"
      },
      "outputs": [
        {
          "name": "stdout",
          "output_type": "stream",
          "text": [
            "Epoch 1\n",
            "loss: 0.778496  [  0/157]\n",
            "loss: 2.153429  [ 20/157]\n",
            "loss: 0.048172  [ 40/157]\n",
            "loss: 0.654056  [ 60/157]\n",
            "loss: 1.151606  [ 80/157]\n",
            "loss: 0.033186  [100/157]\n",
            "loss: 0.361674  [120/157]\n",
            "loss: 0.005647  [140/157]\n",
            "Accuracy: 84.2%, avg loss: 0.235611\n",
            "learning rate: 0.000200 -> 0.000182\n",
            "---------------------------\n",
            "\n",
            "Epoch 2\n",
            "loss: 0.013304  [  0/157]\n",
            "loss: 0.733365  [ 20/157]\n",
            "loss: 0.003968  [ 40/157]\n",
            "loss: 0.006876  [ 60/157]\n",
            "loss: 0.002074  [ 80/157]\n",
            "loss: 0.014765  [100/157]\n",
            "loss: 0.129374  [120/157]\n",
            "loss: 0.214141  [140/157]\n",
            "Accuracy: 94.7%, avg loss: 0.089678\n",
            "learning rate: 0.000182 -> 0.000164\n",
            "---------------------------\n",
            "\n",
            "Epoch 3\n",
            "loss: 0.002244  [  0/157]\n",
            "loss: 0.053377  [ 20/157]\n",
            "loss: 0.000372  [ 40/157]\n",
            "loss: 0.024922  [ 60/157]\n",
            "loss: 0.199007  [ 80/157]\n",
            "loss: 0.000455  [100/157]\n",
            "loss: 0.001050  [120/157]\n",
            "loss: 0.000625  [140/157]\n",
            "Accuracy: 100.0%, avg loss: 0.051644\n",
            "learning rate: 0.000164 -> 0.000146\n",
            "---------------------------\n",
            "\n",
            "Epoch 4\n",
            "loss: 0.001273  [  0/157]\n",
            "loss: 0.003689  [ 20/157]\n",
            "loss: 0.001065  [ 40/157]\n",
            "loss: 0.000437  [ 60/157]\n",
            "loss: 0.034993  [ 80/157]\n",
            "loss: 0.000399  [100/157]\n",
            "loss: 0.000706  [120/157]\n",
            "loss: 0.000268  [140/157]\n",
            "Accuracy: 94.7%, avg loss: 0.056351\n",
            "learning rate: 0.000146 -> 0.000128\n",
            "---------------------------\n",
            "\n",
            "Epoch 5\n",
            "loss: 0.865289  [  0/157]\n",
            "loss: 0.995610  [ 20/157]\n",
            "loss: 0.216511  [ 40/157]\n",
            "loss: 0.001566  [ 60/157]\n",
            "loss: 0.055944  [ 80/157]\n",
            "loss: 0.022073  [100/157]\n",
            "loss: 0.000652  [120/157]\n",
            "loss: 0.000209  [140/157]\n",
            "Accuracy: 100.0%, avg loss: 0.039683\n",
            "learning rate: 0.000128 -> 0.000110\n",
            "---------------------------\n",
            "\n",
            "Epoch 6\n",
            "loss: 0.006896  [  0/157]\n",
            "loss: 0.000302  [ 20/157]\n",
            "loss: 0.000787  [ 40/157]\n",
            "loss: 0.000460  [ 60/157]\n",
            "loss: 0.002239  [ 80/157]\n",
            "loss: 0.000195  [100/157]\n",
            "loss: 0.304918  [120/157]\n",
            "loss: 0.000046  [140/157]\n",
            "Accuracy: 100.0%, avg loss: 0.035393\n",
            "learning rate: 0.000110 -> 0.000092\n",
            "---------------------------\n",
            "\n",
            "Epoch 7\n",
            "loss: 0.000055  [  0/157]\n",
            "loss: 0.004969  [ 20/157]\n",
            "loss: 0.000058  [ 40/157]\n",
            "loss: 0.000238  [ 60/157]\n",
            "loss: 0.005088  [ 80/157]\n",
            "loss: 0.000065  [100/157]\n",
            "loss: 0.000218  [120/157]\n",
            "loss: 0.014938  [140/157]\n",
            "Accuracy: 100.0%, avg loss: 0.015467\n",
            "learning rate: 0.000092 -> 0.000074\n",
            "---------------------------\n",
            "\n",
            "Epoch 8\n",
            "loss: 0.000578  [  0/157]\n",
            "loss: 0.000029  [ 20/157]\n",
            "loss: 0.001739  [ 40/157]\n",
            "loss: 0.000064  [ 60/157]\n",
            "loss: 0.000110  [ 80/157]\n",
            "loss: 0.000059  [100/157]\n",
            "loss: 0.000064  [120/157]\n",
            "loss: 0.000091  [140/157]\n",
            "Accuracy: 100.0%, avg loss: 0.021505\n",
            "learning rate: 0.000074 -> 0.000056\n",
            "---------------------------\n",
            "\n",
            "Epoch 9\n",
            "loss: 0.000037  [  0/157]\n",
            "loss: 0.001409  [ 20/157]\n",
            "loss: 0.000068  [ 40/157]\n",
            "loss: 0.002864  [ 60/157]\n",
            "loss: 0.002545  [ 80/157]\n",
            "loss: 0.000924  [100/157]\n",
            "loss: 0.000058  [120/157]\n",
            "loss: 0.000065  [140/157]\n",
            "Accuracy: 100.0%, avg loss: 0.019046\n",
            "learning rate: 0.000056 -> 0.000038\n",
            "---------------------------\n",
            "\n",
            "Epoch 10\n",
            "loss: 0.000029  [  0/157]\n",
            "loss: 0.000041  [ 20/157]\n",
            "loss: 0.000032  [ 40/157]\n",
            "loss: 0.017931  [ 60/157]\n",
            "loss: 0.003685  [ 80/157]\n",
            "loss: 0.006100  [100/157]\n",
            "loss: 0.002500  [120/157]\n",
            "loss: 0.000069  [140/157]\n",
            "Accuracy: 100.0%, avg loss: 0.015648\n",
            "learning rate: 0.000038 -> 0.000020\n",
            "---------------------------\n",
            "\n",
            "Finished training\n"
          ]
        }
      ],
      "source": [
        "from src.classifier import model\n",
        "from torch import nn\n",
        "\n",
        "LEARNING_RATE = 0.0002\n",
        "EPOCHS = 10\n",
        "\n",
        "# construct model and assign it to device\n",
        "cnn = model.SingleClassifier().to(device)\n",
        "\n",
        "log_writer.add_graph(cnn, signal.unsqueeze_(0))\n",
        "\n",
        "# initialise loss funtion + optimiser\n",
        "loss_fn = nn.BCEWithLogitsLoss()\n",
        "optimiser = torch.optim.Adam(cnn.parameters(), lr=LEARNING_RATE)\n",
        "\n",
        "# train model\n",
        "train.train(cnn,\n",
        "            train_dataloader,\n",
        "            test_dataloader,\n",
        "            loss_fn,\n",
        "            optimiser,\n",
        "            device,\n",
        "            log_writer,\n",
        "            EPOCHS,\n",
        "            mode=\"single\")\n"
      ]
    },
    {
      "cell_type": "markdown",
      "metadata": {},
      "source": [
        "#### Save model weight and bias"
      ]
    },
    {
      "cell_type": "code",
      "execution_count": 6,
      "metadata": {},
      "outputs": [
        {
          "name": "stdout",
          "output_type": "stream",
          "text": [
            "Trained feed forward net saved at _weights/c53_classify_rr.pth\n"
          ]
        }
      ],
      "source": [
        "WEIGHTS_DIR = \"_weights/\"\n",
        "WEIGHTS_FILE = os.path.join(WEIGHTS_DIR, EXPERIMENT_NAME + \".pth\")\n",
        "\n",
        "if not os.path.exists('%s' % WEIGHTS_DIR):\n",
        "    os.makedirs('%s' % WEIGHTS_DIR)\n",
        "\n",
        "# save model\n",
        "torch.save(cnn.state_dict(), WEIGHTS_FILE)\n",
        "print(\"Trained feed forward net saved at %s\" %(WEIGHTS_FILE))"
      ]
    },
    {
      "attachments": {},
      "cell_type": "markdown",
      "metadata": {},
      "source": [
        "#### Evaluation"
      ]
    },
    {
      "cell_type": "code",
      "execution_count": 7,
      "metadata": {},
      "outputs": [
        {
          "name": "stdout",
          "output_type": "stream",
          "text": [
            "Accuracy: 100.0%, avg loss: 0.010418\n",
            "[[ 5  0]\n",
            " [ 0 14]]\n",
            "              precision    recall  f1-score   support\n",
            "\n",
            "           0       1.00      1.00      1.00         5\n",
            "           1       1.00      1.00      1.00        14\n",
            "\n",
            "    accuracy                           1.00        19\n",
            "   macro avg       1.00      1.00      1.00        19\n",
            "weighted avg       1.00      1.00      1.00        19\n",
            "\n"
          ]
        },
        {
          "data": {
            "image/png": "[encoded data removed]",
            "text/plain": [
              "<Figure size 1200x800 with 2 Axes>"
            ]
          },
          "metadata": {},
          "output_type": "display_data"
        }
      ],
      "source": [
        "from sklearn.metrics import confusion_matrix, classification_report\n",
        "from src.util import plot_confusion_matrix\n",
        "\n",
        "labels_ID = ['bypass', 'activate']\n",
        "\n",
        "cnn = model.SingleClassifier().to(device)\n",
        "\n",
        "state_dict = torch.load(WEIGHTS_FILE)\n",
        "cnn.load_state_dict(state_dict)\n",
        "\n",
        "_, _, log = train.test(cnn, val_dataloader, device, mode=\"single\")\n",
        "\n",
        "expected = []\n",
        "predicted = []\n",
        "for index, data in enumerate(log):\n",
        "    predicted.append(data[1])\n",
        "    expected.append(data[2])\n",
        "\n",
        "mat_con = confusion_matrix(y_true=expected, y_pred=predicted)\n",
        "print(mat_con)\n",
        "print(classification_report(expected, predicted))\n",
        "\n",
        "log_writer.add_figure(\"Confusion Matrix\", plot_confusion_matrix(mat_con, title='Confusion Matrix', classes=labels_ID))\n",
        "\n",
        "log_writer.close()"
      ]
    }
  ],
  "metadata": {
    "colab": {
      "name": "torchaudio-tutorial.ipynb",
      "provenance": []
    },
    "kernelspec": {
      "display_name": "Python 3",
      "name": "python3"
    },
    "language_info": {
      "codemirror_mode": {
        "name": "ipython",
        "version": 3
      },
      "file_extension": ".py",
      "mimetype": "text/x-python",
      "name": "python",
      "nbconvert_exporter": "python",
      "pygments_lexer": "ipython3",
      "version": "3.10.12"
    }
  },
  "nbformat": 4,
  "nbformat_minor": 0
}
