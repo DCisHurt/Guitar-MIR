{
  "cells": [
    {
      "attachments": {},
      "cell_type": "markdown",
      "metadata": {},
      "source": [
        "# Distortion Classification"
      ]
    },
    {
      "cell_type": "code",
      "execution_count": 1,
      "metadata": {
        "colab": {
          "base_uri": "https://localhost:8080/"
        },
        "id": "VMiPTdSA8C2F",
        "outputId": "a297ba92-a5c6-4015-d92d-1e9487daf896"
      },
      "outputs": [],
      "source": [
        "import torch\n",
        "import torchaudio\n",
        "import os"
      ]
    },
    {
      "cell_type": "markdown",
      "metadata": {},
      "source": [
        "#### Add Tensorboard to record data"
      ]
    },
    {
      "cell_type": "code",
      "execution_count": 2,
      "metadata": {},
      "outputs": [],
      "source": [
        "from torch.utils.tensorboard import SummaryWriter\n",
        "\n",
        "EXPERIMENT_NAME = \"c53_parameter\"\n",
        "LOG_DIR = \"_log/\" + EXPERIMENT_NAME\n",
        "\n",
        "if not os.path.exists('%s' % LOG_DIR):\n",
        "    os.makedirs('%s' % LOG_DIR)\n",
        "\n",
        "log_writer = SummaryWriter(LOG_DIR)\n"
      ]
    },
    {
      "attachments": {},
      "cell_type": "markdown",
      "metadata": {},
      "source": [
        "### Load dataset"
      ]
    },
    {
      "cell_type": "code",
      "execution_count": 3,
      "metadata": {
        "colab": {
          "base_uri": "https://localhost:8080/"
        },
        "id": "1gIdrZtW_JYf",
        "outputId": "c1bb6969-15a9-44eb-8cdd-8d79c89208f2"
      },
      "outputs": [
        {
          "name": "stdout",
          "output_type": "stream",
          "text": [
            "Using device cpu\n",
            "There are 252 samples in the dataset.\n",
            "Shape of signal: torch.Size([1, 64, 64])\n",
            "input feature:\n"
          ]
        },
        {
          "data": {
            "image/png": "[encoded data removed]",
            "text/plain": [
              "<Figure size 1200x800 with 1 Axes>"
            ]
          },
          "metadata": {},
          "output_type": "display_data"
        }
      ],
      "source": [
        "from src.gtfxdataset import GtFxDataset\n",
        "from src.util import plot_spectrogram\n",
        "\n",
        "AUDIO_DIR = \"_assets/DATASET/GT-FX-SINGLE/\"\n",
        "ANNOTATIONS_FILE = os.path.join(AUDIO_DIR, \"annotation.csv\")\n",
        "\n",
        "SAMPLE_RATE = 22050\n",
        "NUM_SAMPLES = 22050*3\n",
        "\n",
        "EFFECT_MAP = [\"distortion\", \"chorus\", \"tremolo\", \"delay\", \"reverb\"]\n",
        "EFFECT = 4\n",
        "\n",
        "if torch.cuda.is_available():\n",
        "    device = \"cuda\"\n",
        "else:\n",
        "    device = \"cpu\"\n",
        "print(f\"Using device {device}\")\n",
        "\n",
        "mel_spectrogram = torchaudio.transforms.MelSpectrogram(\n",
        "    sample_rate=SAMPLE_RATE,\n",
        "    n_fft=512,\n",
        "    hop_length=1050,\n",
        "    n_mels=64,\n",
        "    # power=2\n",
        ")\n",
        "\n",
        "spectrogram = torchaudio.transforms.Spectrogram(\n",
        "    power=2,\n",
        "    n_fft=127,\n",
        "    win_length= 127,\n",
        "    hop_length= 1040,\n",
        "    normalized=True\n",
        ")\n",
        "\n",
        "mfcc = torchaudio.transforms.MFCC(\n",
        "    sample_rate = SAMPLE_RATE, \n",
        "    n_mfcc = 64,\n",
        "    melkwargs = {\n",
        "        \"n_fft\": 1024,\n",
        "        \"hop_length\": 1030,\n",
        "        \"n_mels\": 64,\n",
        "        \"center\": False})\n",
        "\n",
        "fxData = GtFxDataset(ANNOTATIONS_FILE,\n",
        "                        AUDIO_DIR,\n",
        "                        mfcc,\n",
        "                        SAMPLE_RATE,\n",
        "                        NUM_SAMPLES,\n",
        "                        device,\n",
        "                        effect=EFFECT_MAP[EFFECT])\n",
        "\n",
        "signal, _, _, _, _ = fxData[0]\n",
        "print(f\"There are {len(fxData)} samples in the dataset.\")\n",
        "print(f\"Shape of signal: {signal.shape}\")\n",
        "\n",
        "print(\"input feature:\")\n",
        "log_writer.add_figure(\"Input Feature\", plot_spectrogram(signal[0], title=\"MFCC\"))"
      ]
    },
    {
      "attachments": {},
      "cell_type": "markdown",
      "metadata": {},
      "source": [
        "#### Split dataset into train and test sets"
      ]
    },
    {
      "cell_type": "code",
      "execution_count": 4,
      "metadata": {},
      "outputs": [],
      "source": [
        "from src.extrector import train\n",
        "\n",
        "BATCH_SIZE = round(len(fxData) / 200)\n",
        "\n",
        "split_ratio = [0.8, 0.1, 0.1]\n",
        "train_set, test_set, val_set = torch.utils.data.random_split(fxData, lengths=split_ratio)\n",
        "\n",
        "train_dataloader = train.create_data_loader(train_set, BATCH_SIZE)\n",
        "test_dataloader = train.create_data_loader(test_set, BATCH_SIZE)\n",
        "val_dataloader = train.create_data_loader(val_set, BATCH_SIZE)"
      ]
    },
    {
      "attachments": {},
      "cell_type": "markdown",
      "metadata": {},
      "source": [
        "#### Model training"
      ]
    },
    {
      "cell_type": "code",
      "execution_count": 5,
      "metadata": {
        "colab": {
          "base_uri": "https://localhost:8080/"
        },
        "id": "O8O9r5WI2zuI",
        "outputId": "ed2a4ebd-f644-4e35-8fda-86170924dfe9"
      },
      "outputs": [
        {
          "name": "stdout",
          "output_type": "stream",
          "text": [
            "Epoch 1\n",
            "loss: 0.200801  [  0/202]\n",
            "loss: 0.248957  [ 20/202]\n",
            "loss: 0.044027  [ 40/202]\n",
            "loss: 0.020304  [ 60/202]\n",
            "loss: 0.009618  [ 80/202]\n",
            "loss: 0.012893  [100/202]\n",
            "loss: 0.009339  [120/202]\n",
            "loss: 0.003245  [140/202]\n",
            "loss: 0.005060  [160/202]\n",
            "loss: 0.035739  [180/202]\n",
            "loss: 0.004987  [200/202]\n",
            "reverb: avg MSE: 0.017801, avg abs error: 0.11\n",
            "learning rate: 0.001000 -> 0.000910\n",
            "---------------------------\n",
            "\n",
            "Epoch 2\n",
            "loss: 0.020937  [  0/202]\n",
            "loss: 0.024536  [ 20/202]\n",
            "loss: 0.008240  [ 40/202]\n",
            "loss: 0.005308  [ 60/202]\n",
            "loss: 0.003104  [ 80/202]\n",
            "loss: 0.020138  [100/202]\n",
            "loss: 0.120797  [120/202]\n",
            "loss: 0.006708  [140/202]\n",
            "loss: 0.046798  [160/202]\n",
            "loss: 0.015383  [180/202]\n",
            "loss: 0.019059  [200/202]\n",
            "reverb: avg MSE: 0.014468, avg abs error: 0.1\n",
            "learning rate: 0.000910 -> 0.000820\n",
            "---------------------------\n",
            "\n",
            "Epoch 3\n",
            "loss: 0.005458  [  0/202]\n",
            "loss: 0.012347  [ 20/202]\n",
            "loss: 0.002273  [ 40/202]\n",
            "loss: 0.000739  [ 60/202]\n",
            "loss: 0.002597  [ 80/202]\n",
            "loss: 0.000478  [100/202]\n",
            "loss: 0.049661  [120/202]\n",
            "loss: 0.002102  [140/202]\n",
            "loss: 0.004184  [160/202]\n",
            "loss: 0.003521  [180/202]\n",
            "loss: 0.009798  [200/202]\n",
            "reverb: avg MSE: 0.004572, avg abs error: 0.05\n",
            "learning rate: 0.000820 -> 0.000730\n",
            "---------------------------\n",
            "\n",
            "Epoch 4\n",
            "loss: 0.000534  [  0/202]\n",
            "loss: 0.006046  [ 20/202]\n",
            "loss: 0.021015  [ 40/202]\n",
            "loss: 0.000006  [ 60/202]\n",
            "loss: 0.004506  [ 80/202]\n",
            "loss: 0.000158  [100/202]\n",
            "loss: 0.000914  [120/202]\n",
            "loss: 0.000899  [140/202]\n",
            "loss: 0.009965  [160/202]\n",
            "loss: 0.152688  [180/202]\n",
            "loss: 0.012194  [200/202]\n",
            "reverb: avg MSE: 0.026477, avg abs error: 0.15\n",
            "learning rate: 0.000730 -> 0.000640\n",
            "---------------------------\n",
            "\n",
            "Epoch 5\n",
            "loss: 0.044212  [  0/202]\n",
            "loss: 0.001438  [ 20/202]\n",
            "loss: 0.000052  [ 40/202]\n",
            "loss: 0.003511  [ 60/202]\n",
            "loss: 0.005141  [ 80/202]\n",
            "loss: 0.019610  [100/202]\n",
            "loss: 0.010354  [120/202]\n",
            "loss: 0.003113  [140/202]\n",
            "loss: 0.005364  [160/202]\n",
            "loss: 0.002754  [180/202]\n",
            "loss: 0.005289  [200/202]\n",
            "reverb: avg MSE: 0.003954, avg abs error: 0.04\n",
            "learning rate: 0.000640 -> 0.000550\n",
            "---------------------------\n",
            "\n",
            "Epoch 6\n",
            "loss: 0.000922  [  0/202]\n",
            "loss: 0.072309  [ 20/202]\n",
            "loss: 0.009229  [ 40/202]\n",
            "loss: 0.006099  [ 60/202]\n",
            "loss: 0.001699  [ 80/202]\n",
            "loss: 0.007750  [100/202]\n",
            "loss: 0.000355  [120/202]\n",
            "loss: 0.007476  [140/202]\n",
            "loss: 0.000231  [160/202]\n",
            "loss: 0.002005  [180/202]\n",
            "loss: 0.007904  [200/202]\n",
            "reverb: avg MSE: 0.005181, avg abs error: 0.05\n",
            "learning rate: 0.000550 -> 0.000460\n",
            "---------------------------\n",
            "\n",
            "Epoch 7\n",
            "loss: 0.002836  [  0/202]\n",
            "loss: 0.024531  [ 20/202]\n",
            "loss: 0.049700  [ 40/202]\n",
            "loss: 0.078895  [ 60/202]\n",
            "loss: 0.000335  [ 80/202]\n",
            "loss: 0.000007  [100/202]\n",
            "loss: 0.002049  [120/202]\n",
            "loss: 0.000396  [140/202]\n",
            "loss: 0.001733  [160/202]\n",
            "loss: 0.000466  [180/202]\n",
            "loss: 0.005776  [200/202]\n",
            "reverb: avg MSE: 0.002694, avg abs error: 0.04\n",
            "learning rate: 0.000460 -> 0.000370\n",
            "---------------------------\n",
            "\n",
            "Epoch 8\n",
            "loss: 0.004111  [  0/202]\n",
            "loss: 0.001041  [ 20/202]\n",
            "loss: 0.000429  [ 40/202]\n",
            "loss: 0.000119  [ 60/202]\n",
            "loss: 0.004858  [ 80/202]\n",
            "loss: 0.000227  [100/202]\n",
            "loss: 0.001180  [120/202]\n",
            "loss: 0.000052  [140/202]\n",
            "loss: 0.001463  [160/202]\n",
            "loss: 0.000787  [180/202]\n",
            "loss: 0.000803  [200/202]\n",
            "reverb: avg MSE: 0.002530, avg abs error: 0.04\n",
            "learning rate: 0.000370 -> 0.000280\n",
            "---------------------------\n",
            "\n",
            "Epoch 9\n",
            "loss: 0.000619  [  0/202]\n",
            "loss: 0.000001  [ 20/202]\n",
            "loss: 0.000462  [ 40/202]\n",
            "loss: 0.000008  [ 60/202]\n",
            "loss: 0.000860  [ 80/202]\n",
            "loss: 0.002811  [100/202]\n",
            "loss: 0.000008  [120/202]\n",
            "loss: 0.000014  [140/202]\n",
            "loss: 0.000001  [160/202]\n",
            "loss: 0.002384  [180/202]\n",
            "loss: 0.002177  [200/202]\n",
            "reverb: avg MSE: 0.004363, avg abs error: 0.05\n",
            "learning rate: 0.000280 -> 0.000190\n",
            "---------------------------\n",
            "\n",
            "Epoch 10\n",
            "loss: 0.002304  [  0/202]\n",
            "loss: 0.000099  [ 20/202]\n",
            "loss: 0.001062  [ 40/202]\n",
            "loss: 0.000217  [ 60/202]\n",
            "loss: 0.000475  [ 80/202]\n",
            "loss: 0.001488  [100/202]\n",
            "loss: 0.000237  [120/202]\n",
            "loss: 0.001319  [140/202]\n",
            "loss: 0.004717  [160/202]\n",
            "loss: 0.000470  [180/202]\n",
            "loss: 0.000123  [200/202]\n",
            "reverb: avg MSE: 0.003431, avg abs error: 0.05\n",
            "learning rate: 0.000190 -> 0.000100\n",
            "---------------------------\n",
            "\n",
            "Finished training\n"
          ]
        }
      ],
      "source": [
        "from src.extrector import model\n",
        "from torch import nn\n",
        "\n",
        "LEARNING_RATE = 0.001\n",
        "EPOCHS = 10\n",
        "\n",
        "# construct model and assign it to device\n",
        "cnn = model.Extractor().to(device)\n",
        "\n",
        "log_writer.add_graph(cnn, signal.unsqueeze_(0))\n",
        "\n",
        "# initialise loss funtion + optimiser\n",
        "loss_fn = nn.MSELoss(reduction='mean')\n",
        "optimiser = torch.optim.Adam(cnn.parameters(), lr=LEARNING_RATE)\n",
        "\n",
        "# train model\n",
        "train.train(cnn,\n",
        "            train_dataloader,\n",
        "            test_dataloader,\n",
        "            loss_fn,\n",
        "            optimiser,\n",
        "            device,\n",
        "            log_writer,\n",
        "            EPOCHS,\n",
        "            effect=EFFECT)\n"
      ]
    },
    {
      "cell_type": "markdown",
      "metadata": {},
      "source": [
        "#### Save model weight and bias"
      ]
    },
    {
      "cell_type": "code",
      "execution_count": 6,
      "metadata": {},
      "outputs": [
        {
          "name": "stdout",
          "output_type": "stream",
          "text": [
            "Trained feed forward net saved at _weights/c53_parameter_4.pth\n"
          ]
        }
      ],
      "source": [
        "WEIGHTS_DIR = \"_weights/\"\n",
        "WEIGHTS_FILE = os.path.join(WEIGHTS_DIR, EXPERIMENT_NAME + \"_\" + str(EFFECT) + \".pth\")\n",
        "\n",
        "if not os.path.exists('%s' % WEIGHTS_DIR):\n",
        "    os.makedirs('%s' % WEIGHTS_DIR)\n",
        "\n",
        "# save model\n",
        "torch.save(cnn.state_dict(), WEIGHTS_FILE)\n",
        "print(\"Trained feed forward net saved at %s\" %(WEIGHTS_FILE))"
      ]
    },
    {
      "attachments": {},
      "cell_type": "markdown",
      "metadata": {},
      "source": [
        "#### Evaluation"
      ]
    },
    {
      "cell_type": "code",
      "execution_count": 7,
      "metadata": {},
      "outputs": [
        {
          "name": "stdout",
          "output_type": "stream",
          "text": [
            "reverb: avg MSE: 0.132637, avg abs error: 0.31\n",
            "reverb: avg MSE: 0.381186, avg abs error: 0.57\n",
            "reverb: avg MSE: 0.381188, avg abs error: 0.57\n",
            "reverb: avg MSE: 0.172408, avg abs error: 0.38\n",
            "reverb: avg MSE: 0.004274, avg abs error: 0.05\n"
          ]
        },
        {
          "data": {
            "image/png": "[encoded data removed]",
            "text/plain": [
              "<Figure size 1200x800 with 1 Axes>"
            ]
          },
          "metadata": {},
          "output_type": "display_data"
        }
      ],
      "source": [
        "from src.util import plot_box\n",
        "\n",
        "cnn = model.Extractor().to(device)\n",
        "\n",
        "error = [[], [], [], [], []]\n",
        "for i in range(5):\n",
        "    WEIGHTS_FILE = WEIGHTS_FILE[:-5] + str(i) + \".pth\"\n",
        "    state_dict = torch.load(WEIGHTS_FILE)\n",
        "    cnn.load_state_dict(state_dict)\n",
        "\n",
        "    _, _, log = train.test(cnn, val_dataloader, device, effect=EFFECT)\n",
        "    for _, data in enumerate(log):\n",
        "        error[i].append(data[3])\n",
        "\n",
        "log_writer.add_figure(\"Error Box\", \n",
        "                      plot_box(error, title=\"Error\", labels=EFFECT_MAP, ylabel=\"paramter value\"))\n",
        "\n",
        "log_writer.close()"
      ]
    }
  ],
  "metadata": {
    "colab": {
      "name": "torchaudio-tutorial.ipynb",
      "provenance": []
    },
    "kernelspec": {
      "display_name": "Python 3",
      "name": "python3"
    },
    "language_info": {
      "codemirror_mode": {
        "name": "ipython",
        "version": 3
      },
      "file_extension": ".py",
      "mimetype": "text/x-python",
      "name": "python",
      "nbconvert_exporter": "python",
      "pygments_lexer": "ipython3",
      "version": "3.10.12"
    }
  },
  "nbformat": 4,
  "nbformat_minor": 0
}
